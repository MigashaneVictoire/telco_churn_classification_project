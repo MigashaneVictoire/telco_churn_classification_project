{
 "cells": [
  {
   "cell_type": "markdown",
   "id": "87c41b78",
   "metadata": {},
   "source": [
    "## Project Goals\n",
    "- Find drivers for customer churn at Telco. Why are customers churning?\n",
    "\n",
    "- Construct a ML classification model that accurately predicts customer churn\n",
    "\n",
    "- Present your process and findings to the lead data scientist"
   ]
  },
  {
   "cell_type": "markdown",
   "id": "9461f416",
   "metadata": {},
   "source": [
    "## Acquire\n",
    "\n",
    "- I have 7043 rows and 24columns\n",
    "- 6 of the 24 columns are numric while 18 of them are string object colums\n",
    "- out of the 6 numeric columns 1 is a float colum\n",
    "- I have no null values in my entire data\n",
    "- I also see the descriptive statistics of my data"
   ]
  },
  {
   "cell_type": "markdown",
   "id": "eaa805b1",
   "metadata": {},
   "source": [
    "## Prepare\n",
    "\n",
    "**Removed columns:**\n",
    "\n",
    "- `custromer_id` doesn't look important in predicting churn, so I will remove it from my dataframe\n",
    "\n",
    "- `internet_service_type_id` and `internet_service_type` are relaying the same information, so I will remove internet_service_type_id beause it is valuable for me to know the name of the type of internet.\n",
    "\n",
    "- `contract_type` and `contract_type_id` are also relaying the same information, so I will remove contract_type_id because it is important that I know the name of the contract.\n",
    "\n",
    "- `payment_type` and `payment_type_id` are also relaying the same information, so I will remove payment_type_id because it is important that I know the name of the type of payment.\n",
    "\n",
    "\n",
    "**Check data types:**\n",
    "- total_charges` column is a string buy that is not the correect data type, so I will covert it into float.\n",
    "\n",
    "    - This column contains 11 rows filled by empty spaces (\" \") into them, so I will replace them with `mean` of the the column."
   ]
  },
  {
   "cell_type": "code",
   "execution_count": null,
   "id": "c428c0b6",
   "metadata": {},
   "outputs": [],
   "source": []
  }
 ],
 "metadata": {
  "kernelspec": {
   "display_name": "Python 3 (ipykernel)",
   "language": "python",
   "name": "python3"
  },
  "language_info": {
   "codemirror_mode": {
    "name": "ipython",
    "version": 3
   },
   "file_extension": ".py",
   "mimetype": "text/x-python",
   "name": "python",
   "nbconvert_exporter": "python",
   "pygments_lexer": "ipython3",
   "version": "3.10.9"
  }
 },
 "nbformat": 4,
 "nbformat_minor": 5
}
