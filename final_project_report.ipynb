{
 "cells": [
  {
   "cell_type": "markdown",
   "id": "5f223c63",
   "metadata": {},
   "source": [
    "## Project Goals\n",
    "- Find drivers for customer churn at Telco. Why are customers churning?\n",
    "\n",
    "- Construct a ML classification model that accurately predicts customer churn\n",
    "\n",
    "- Present your process and findings to the lead data scientist"
   ]
  },
  {
   "cell_type": "markdown",
   "id": "2008e894",
   "metadata": {},
   "source": [
    "## Acquire\n",
    "\n",
    "- I have 7043 rows and 24columns\n",
    "- 6 of the 24 columns are numric while 18 of them are string object colums\n",
    "- out of the 6 numeric columns 1 is a float colum\n",
    "- I have no null values in my entire data\n",
    "- I also see the descriptive statistics of my data"
   ]
  },
  {
   "cell_type": "markdown",
   "id": "381c1122",
   "metadata": {},
   "source": [
    "## Prepare\n",
    "\n",
    "**Removed columns:**\n",
    "\n",
    "- `custromer_id` doesn't look important in predicting churn, so I will remove it from my dataframe\n",
    "\n",
    "- `internet_service_type_id` and `internet_service_type` are relaying the same information, so I will remove internet_service_type_id beause it is valuable for me to know the name of the type of internet.\n",
    "\n",
    "- `contract_type` and `contract_type_id` are also relaying the same information, so I will remove contract_type_id because it is important that I know the name of the contract.\n",
    "\n",
    "- `payment_type` and `payment_type_id` are also relaying the same information, so I will remove payment_type_id because it is important that I know the name of the type of payment.\n",
    "\n",
    "\n",
    "**Check data types:**\n",
    "\n",
    "- total_charges` column is a string buy that is not the correect data type, so I will covert it into float.\n",
    "\n",
    "    - This column contains 11 rows filled by empty spaces (\" \") into them, so I will replace them with `mean` of the the column.\n",
    "    \n",
    "**What I see on numeric columns:**\n",
    "\n",
    "- `senior_citizen` contains 2 binary numbers and value 0 contains 84% all all the data. This means that only 16% are sinior sitizens.\n",
    "- `tenure` is a continious variable and it is the number of month a customer has been witht the telco's services.\n",
    "- `monthly_charges`: is continious variable and it is the amount each customer is being charged every month.\n",
    "- `total_charges` is a continious variable and it is the sum of all the payments completed by the customer.\n",
    "\n",
    "**What I see on object columns:**\n",
    "\n",
    "- `gender` is a two choice categorical variable and the counts are split about equaly on both directions.\n",
    "- `partner` is a two choice categorical variable and the counts are split about equaly on both directions. It identifies the customers who have have a spouse on the line.\n",
    "- `dependents` is a two choice categorical variable and about 70% of them don't have dependents.\n",
    "- `multiple_lines` is a two choice categorical variable and only a small count (about 6% more) of customers more have don't have multiple lines.\n",
    "- `online_security` is a three choice categorical variable and about 50% of them don't have online security while they have internet service.\n",
    "- `online_backup` is a three choice categorical variable and about 43% of them don't have online backup while they haveinternet service.\n",
    "- `device_protection` is a three choice categorical variable and about 43% of them don't have device protection while they have internet service.\n",
    "- `tech_support` is a three choice categorical variable and about 50% of them don't receive technical support while they have internet service.\n",
    "- `stream_tv` is a three choice categorical variable and about 40% of them don't rdon't stream tv while they have internet service.\n",
    "- `stream_movies` is a three choice categorical variable and about 40% of them don't rdon't stream movies while they have internet service.\n",
    "- `paperless_billing` is a two choice categorical variable and about 60% of them have paperless billing\n",
    "- `churn` is a two choice categorical variable and about 20% of the customers are churn.\n",
    "- `contract_type` is a three choice categorical variable and about 55% of the customers are month to month.\n",
    "- `internet_service_type` is a three choice categorical variable and about 44% of the customers have fiber optic.\n",
    "- `payment_type` is a three choice categorical variable and about 33% of the customers use electronice check.\n",
    "\n",
    "\n",
    "\n",
    "**More about prepare in big file (Must get later)**"
   ]
  },
  {
   "cell_type": "code",
   "execution_count": null,
   "id": "a9cde5cd",
   "metadata": {},
   "outputs": [],
   "source": []
  }
 ],
 "metadata": {
  "kernelspec": {
   "display_name": "Python 3 (ipykernel)",
   "language": "python",
   "name": "python3"
  },
  "language_info": {
   "codemirror_mode": {
    "name": "ipython",
    "version": 3
   },
   "file_extension": ".py",
   "mimetype": "text/x-python",
   "name": "python",
   "nbconvert_exporter": "python",
   "pygments_lexer": "ipython3",
   "version": "3.10.9"
  }
 },
 "nbformat": 4,
 "nbformat_minor": 5
}
