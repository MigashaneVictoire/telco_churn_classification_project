{
 "cells": [
  {
   "cell_type": "markdown",
   "id": "ef304d54",
   "metadata": {},
   "source": [
    "## Project Goals\n",
    "- Find drivers for customer churn at Telco. Why are customers churning?\n",
    "\n",
    "- Construct a ML classification model that accurately predicts customer churn\n",
    "\n",
    "- Present your process and findings to the lead data scientist"
   ]
  },
  {
   "cell_type": "markdown",
   "id": "0f6496a8",
   "metadata": {},
   "source": [
    "## Acquire\n",
    "\n",
    "- I have 7043 rows and 24columns\n",
    "- 6 of the 24 columns are numric while 18 of them are string object colums\n",
    "- out of the 6 numeric columns 1 is a float colum\n",
    "- I have no null values in my entire data\n",
    "- I also see the descriptive statistics of my data"
   ]
  },
  {
   "cell_type": "code",
   "execution_count": null,
   "id": "9045bf57",
   "metadata": {},
   "outputs": [],
   "source": []
  }
 ],
 "metadata": {
  "kernelspec": {
   "display_name": "Python 3 (ipykernel)",
   "language": "python",
   "name": "python3"
  },
  "language_info": {
   "codemirror_mode": {
    "name": "ipython",
    "version": 3
   },
   "file_extension": ".py",
   "mimetype": "text/x-python",
   "name": "python",
   "nbconvert_exporter": "python",
   "pygments_lexer": "ipython3",
   "version": "3.10.9"
  }
 },
 "nbformat": 4,
 "nbformat_minor": 5
}
